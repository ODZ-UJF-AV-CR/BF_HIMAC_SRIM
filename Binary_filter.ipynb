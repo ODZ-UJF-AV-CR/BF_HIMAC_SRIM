{
 "cells": [
  {
   "cell_type": "code",
   "execution_count": 1,
   "id": "88e8c30b-73b1-4de7-a941-092bcb671b0c",
   "metadata": {},
   "outputs": [],
   "source": [
    "import os\n",
    "import sys\n",
    "import csv\n",
    "import matplotlib.pyplot as plt\n",
    "import numpy as np\n",
    "import pandas as pd\n",
    "from scipy.interpolate import CubicSpline"
   ]
  },
  {
   "cell_type": "markdown",
   "id": "ded77be8-3f9f-4a53-a561-f526a8572e1c",
   "metadata": {},
   "source": [
    "<h1>Definition of functions</h1>"
   ]
  },
  {
   "cell_type": "code",
   "execution_count": 143,
   "id": "025e64b5-319e-4179-9b50-13cf95f0f5bb",
   "metadata": {},
   "outputs": [],
   "source": [
    "def read_SRIM(file):\n",
    "    start = 0\n",
    "    lst = []\n",
    "    with open(file) as f:\n",
    "        lines = f.readlines()\n",
    "        for idx, line in enumerate(lines):\n",
    "            if ('-----------------------------------------------------------' in line):\n",
    "                break\n",
    "            if start == 1:\n",
    "                line = line.replace(',', '.')\n",
    "                words = line.split()\n",
    "                LET_el = float(words[2])\n",
    "                LET_nuc = float(words[3])\n",
    "                energy = float(words[0])\n",
    "                if words[1] == 'MeV':\n",
    "                    energy *= 1_000.0\n",
    "                if words[1] == 'GeV':\n",
    "                    energy *= 1_000_000.0\n",
    "                lst.append((energy, LET_el, LET_nuc))\n",
    "            if ('--------------' in line):\n",
    "                start = 1\n",
    "    df = pd.DataFrame(lst, columns=['energy', 'LET_el', 'LET_nuc'])\n",
    "    df['LET_el'] = df['LET_el'] * 0.001 # keV/nm\n",
    "    df['LET_nuc'] = df['LET_nuc'] * 0.001 # keV/nm\n",
    "    #df['LET'] = df['LET_el'] + df['LET_nuc'] # keV/nm\n",
    "    #print(df)\n",
    "    return df\n",
    "    \n",
    "def interpolate_LET(x, y):\n",
    "    f = CubicSpline(x, y, bc_type='natural')\n",
    "    return f\n",
    "\n",
    "def energy_loss(LET, distance):\n",
    "    return LET * distance\n",
    "\n",
    "def calculate_filter(df, original_energy, binary_filter):\n",
    "    binary_filter_nm = binary_filter * 1E+6\n",
    "    thickness = int(np.max(binary_filter_nm))\n",
    "    \n",
    "    granularity = 10 # nm\n",
    "    len_arr = int((int(thickness + 0.5) / granularity) + 1)\n",
    "    \n",
    "    x = np.linspace(0, thickness, len_arr)\n",
    "    LET_func_el = interpolate_LET(df['energy'], df['LET_el'])\n",
    "    LET_func_nuc = interpolate_LET(df['energy'], df['LET_nuc'])\n",
    "    \n",
    "    ion_energy = original_energy\n",
    "    original_distance = 0\n",
    "    el_energy, nuc_energy = 0, 0\n",
    "    for idx, distance in enumerate(x):\n",
    "        delta = distance - original_distance\n",
    "        original_distance = distance\n",
    "        LET_el = LET_func_el(ion_energy)\n",
    "        LET_nuc = LET_func_nuc(ion_energy)\n",
    "        energy_loss_el = energy_loss(LET_el, delta)\n",
    "        energy_loss_nuc = energy_loss(LET_nuc, delta)\n",
    "        el_energy += energy_loss_el\n",
    "        nuc_energy += energy_loss_nuc\n",
    "        ion_energy = ion_energy - energy_loss_el - energy_loss_nuc\n",
    "        if distance in binary_filter_nm:\n",
    "            result = [distance * 1E-6, 1000 * (LET_el + LET_nuc), ion_energy, el_energy, nuc_energy]\n",
    "            print_results(result)\n",
    "            #print(distance * 1E-7, 1000 * (LET_el + LET_nuc), ion_energy, el_energy, nuc_energy)\n",
    "        else:\n",
    "            #print(distance, binary_filter_nm)\n",
    "            k=0\n",
    "    return result\n",
    "\n",
    "def print_results(res):\n",
    "    print('------------------------------------------------------------------------------------------')\n",
    "    print('Distance traveled in binary filter: ', round(res[0], 3), ' mm')\n",
    "    print('Energy of the ion behind the binary filter: ', round(res[2] * 0.001, 3), ' MeV')\n",
    "    print('LET in water of the ion behind the binary filter: ', round(res[1], 3), ' keV/um')\n",
    "    print('Deposited energy in binary filter (elec. component): ', round(res[3] * 0.001, 3), ' MeV')\n",
    "    print('Deposited energy in binary filter (nuclear component): ', round(res[4] * 0.001, 3), ' MeV')\n",
    "    print('------------------------------------------------------------------------------------------')\n"
   ]
  },
  {
   "cell_type": "markdown",
   "id": "024658fa-5b9c-4fe2-b5e2-b382cd9e11b8",
   "metadata": {},
   "source": [
    "<h1>Run ion through binary filter</h1>"
   ]
  },
  {
   "cell_type": "code",
   "execution_count": 145,
   "id": "1efcfa2e-b5a8-4ebc-9743-15e9cda1a8ee",
   "metadata": {},
   "outputs": [
    {
     "name": "stdout",
     "output_type": "stream",
     "text": [
      "The original ion energy:  572.836  MeV\n",
      "------------------------------------------------------------------------------------------\n",
      "Distance traveled in binary filter:  1.0  mm\n",
      "Energy of the ion behind the binary filter:  570.567  MeV\n",
      "LET in water of the ion behind the binary filter:  2.272  keV/um\n",
      "Deposited energy in binary filter (elec. component):  2.268  MeV\n",
      "Deposited energy in binary filter (nuclear component):  0.001  MeV\n",
      "------------------------------------------------------------------------------------------\n",
      "------------------------------------------------------------------------------------------\n",
      "Distance traveled in binary filter:  10.0  mm\n",
      "Energy of the ion behind the binary filter:  549.85  MeV\n",
      "LET in water of the ion behind the binary filter:  2.332  keV/um\n",
      "Deposited energy in binary filter (elec. component):  22.977  MeV\n",
      "Deposited energy in binary filter (nuclear component):  0.01  MeV\n",
      "------------------------------------------------------------------------------------------\n",
      "------------------------------------------------------------------------------------------\n",
      "Distance traveled in binary filter:  100.43  mm\n",
      "Energy of the ion behind the binary filter:  292.921  MeV\n",
      "LET in water of the ion behind the binary filter:  3.725  keV/um\n",
      "Deposited energy in binary filter (elec. component):  279.79  MeV\n",
      "Deposited energy in binary filter (nuclear component):  0.126  MeV\n",
      "------------------------------------------------------------------------------------------\n",
      "------------------------------------------------------------------------------------------\n",
      "Distance traveled in binary filter:  141.54  mm\n",
      "Energy of the ion behind the binary filter:  62.121  MeV\n",
      "LET in water of the ion behind the binary filter:  13.012  keV/um\n",
      "Deposited energy in binary filter (elec. component):  510.471  MeV\n",
      "Deposited energy in binary filter (nuclear component):  0.244  MeV\n",
      "------------------------------------------------------------------------------------------\n"
     ]
    }
   ],
   "source": [
    "original_energy = 572_836 # keV\n",
    "binary_filter = np.array([1, 10, 100.43, 141.54]) # mm equivalent\n",
    "file = '/home/sommema4/git/SRIM/He_in_Water_Liquid.txt'\n",
    "\n",
    "df = read_SRIM(file)\n",
    "\n",
    "print('The original ion energy: ', original_energy * 0.001, ' MeV')\n",
    "res = calculate_filter(df, original_energy, binary_filter)"
   ]
  },
  {
   "cell_type": "code",
   "execution_count": null,
   "id": "4d62852f-5e25-43ba-bd06-d6883645d263",
   "metadata": {},
   "outputs": [],
   "source": []
  }
 ],
 "metadata": {
  "kernelspec": {
   "display_name": "Python 3",
   "language": "python",
   "name": "ipython_py3"
  },
  "language_info": {
   "codemirror_mode": {
    "name": "ipython",
    "version": 3
   },
   "file_extension": ".py",
   "mimetype": "text/x-python",
   "name": "python",
   "nbconvert_exporter": "python",
   "pygments_lexer": "ipython3",
   "version": "3.8.13"
  }
 },
 "nbformat": 4,
 "nbformat_minor": 5
}
